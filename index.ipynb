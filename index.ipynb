{
 "cells": [
  {
   "cell_type": "markdown",
   "metadata": {},
   "source": [
    "# Jupyter Quickstart"
   ]
  },
  {
   "cell_type": "markdown",
   "metadata": {},
   "source": [
    "## What is Jupyter?"
   ]
  },
  {
   "cell_type": "markdown",
   "metadata": {},
   "source": [
    "Jupyter is an application that runs on your web browser, and lets you create **Jupyter Notebooks** (like this one). Notebooks are a collection of *cells*. Cells can contain:\n",
    "\n",
    "1. Live (runnable) code, and\n",
    "2. Explanatory text written using the Markdown markup language\n",
    "3. Mathematical equations and inline expressions using LaTeX"
   ]
  },
  {
   "cell_type": "markdown",
   "metadata": {},
   "source": [
    "To edit a cell, simply double-click on it. Once you're done making changes, press `Shift+Enter` or press the <button class=\"btn btn-default\"><i class=\"fa-step-forward fa\"></i></button> button on the cell toolbar above. Double click on the equation below to see the LaTeX code that is used to generate it. Make a small change to the equation and then execute the cell; for example, change the `2` to a `5`:"
   ]
  },
  {
   "cell_type": "markdown",
   "metadata": {},
   "source": [
    "$$ E = mc^2 $$"
   ]
  },
  {
   "cell_type": "markdown",
   "metadata": {},
   "source": [
    "Below is an example of a *code cell*, which contains Python code to print some words. Try and run it:"
   ]
  },
  {
   "cell_type": "code",
   "execution_count": 1,
   "metadata": {
    "collapsed": false
   },
   "outputs": [
    {
     "name": "stdout",
     "output_type": "stream",
     "text": [
      "Hello World\n"
     ]
    }
   ],
   "source": [
    "print(\"Hello World!\")"
   ]
  },
  {
   "cell_type": "markdown",
   "metadata": {
    "collapsed": true
   },
   "source": [
    "As you can see, the output of any cell is presented below the cell. You can edit a code cell, and re-run it to change the output. Try to get this cell to print \"Goodbye World!\" instead.\n",
    "\n",
    "The above cell produces text output, but the output can be an image, an animation, a table, or an HTML \"widget\" that lets you interact with your data."
   ]
  },
  {
   "cell_type": "markdown",
   "metadata": {},
   "source": [
    "## A simple example: working with small data"
   ]
  },
  {
   "cell_type": "markdown",
   "metadata": {},
   "source": [
    "In the cells that follow, we will read some data from a file called `animals.txt` and plot it using Python.\n",
    "\n",
    "The cell below creates our file.\n",
    "`%%writefile animals.txt` at the top of the cell instructs the notebook to save the contents of the cell to a file called `animals.txt`.\n",
    "The file will be created in the same directory as this notebook."
   ]
  },
  {
   "cell_type": "code",
   "execution_count": 1,
   "metadata": {
    "collapsed": false
   },
   "outputs": [
    {
     "name": "stdout",
     "output_type": "stream",
     "text": [
      "Writing animals.txt\n"
     ]
    }
   ],
   "source": [
    "%%writefile animals.txt\n",
    "2011-04-22 12:49 Grizzly 4\n",
    "2011-04-22 10:59 Grizzly 20\n",
    "2011-04-23 20:41 Muskox 36\n",
    "2011-04-24 02:04 Fox 31\n",
    "2011-04-25 10:54 Grizzly 20\n",
    "2011-04-25 02:45 Muskox 15\n",
    "2011-04-26 09:38 Owl 25\n",
    "2011-04-26 09:42 Wolf 40\n",
    "2011-04-26 10:04 Elk 21\n",
    "2011-04-26 09:42 Owl 3\n",
    "2011-04-26 14:01 Owl 5\n",
    "2011-04-27 23:40 Owl 5\n",
    "2011-04-27 16:22 Ptarmigan 13\n",
    "2011-04-28 16:32 Muskox 1\n",
    "2011-04-28 01:05 Grizzly 27\n"
   ]
  },
  {
   "cell_type": "markdown",
   "metadata": {},
   "source": [
    "The cell below reads the file `animals.txt`, and displays its contents as a table. This data corresponds to animal sightings made at different times and at different sites. Run the cell to see the table."
   ]
  },
  {
   "cell_type": "code",
   "execution_count": 2,
   "metadata": {
    "collapsed": false
   },
   "outputs": [
    {
     "data": {
      "text/html": [
       "<div>\n",
       "<table border=\"1\" class=\"dataframe\">\n",
       "  <thead>\n",
       "    <tr style=\"text-align: right;\">\n",
       "      <th></th>\n",
       "      <th>Date</th>\n",
       "      <th>Time</th>\n",
       "      <th>Animal</th>\n",
       "      <th>Site ID</th>\n",
       "    </tr>\n",
       "  </thead>\n",
       "  <tbody>\n",
       "    <tr>\n",
       "      <th>0</th>\n",
       "      <td>2011-04-22</td>\n",
       "      <td>12:49</td>\n",
       "      <td>Grizzly</td>\n",
       "      <td>4</td>\n",
       "    </tr>\n",
       "    <tr>\n",
       "      <th>1</th>\n",
       "      <td>2011-04-22</td>\n",
       "      <td>10:59</td>\n",
       "      <td>Grizzly</td>\n",
       "      <td>20</td>\n",
       "    </tr>\n",
       "    <tr>\n",
       "      <th>2</th>\n",
       "      <td>2011-04-23</td>\n",
       "      <td>20:41</td>\n",
       "      <td>Muskox</td>\n",
       "      <td>36</td>\n",
       "    </tr>\n",
       "    <tr>\n",
       "      <th>3</th>\n",
       "      <td>2011-04-24</td>\n",
       "      <td>02:04</td>\n",
       "      <td>Fox</td>\n",
       "      <td>31</td>\n",
       "    </tr>\n",
       "    <tr>\n",
       "      <th>4</th>\n",
       "      <td>2011-04-25</td>\n",
       "      <td>10:54</td>\n",
       "      <td>Grizzly</td>\n",
       "      <td>20</td>\n",
       "    </tr>\n",
       "    <tr>\n",
       "      <th>5</th>\n",
       "      <td>2011-04-25</td>\n",
       "      <td>02:45</td>\n",
       "      <td>Muskox</td>\n",
       "      <td>15</td>\n",
       "    </tr>\n",
       "    <tr>\n",
       "      <th>6</th>\n",
       "      <td>2011-04-26</td>\n",
       "      <td>09:38</td>\n",
       "      <td>Owl</td>\n",
       "      <td>25</td>\n",
       "    </tr>\n",
       "    <tr>\n",
       "      <th>7</th>\n",
       "      <td>2011-04-26</td>\n",
       "      <td>09:42</td>\n",
       "      <td>Wolf</td>\n",
       "      <td>40</td>\n",
       "    </tr>\n",
       "    <tr>\n",
       "      <th>8</th>\n",
       "      <td>2011-04-26</td>\n",
       "      <td>10:04</td>\n",
       "      <td>Elk</td>\n",
       "      <td>21</td>\n",
       "    </tr>\n",
       "    <tr>\n",
       "      <th>9</th>\n",
       "      <td>2011-04-26</td>\n",
       "      <td>09:42</td>\n",
       "      <td>Owl</td>\n",
       "      <td>3</td>\n",
       "    </tr>\n",
       "    <tr>\n",
       "      <th>10</th>\n",
       "      <td>2011-04-26</td>\n",
       "      <td>14:01</td>\n",
       "      <td>Owl</td>\n",
       "      <td>5</td>\n",
       "    </tr>\n",
       "    <tr>\n",
       "      <th>11</th>\n",
       "      <td>2011-04-27</td>\n",
       "      <td>23:40</td>\n",
       "      <td>Owl</td>\n",
       "      <td>5</td>\n",
       "    </tr>\n",
       "    <tr>\n",
       "      <th>12</th>\n",
       "      <td>2011-04-27</td>\n",
       "      <td>16:22</td>\n",
       "      <td>Ptarmigan</td>\n",
       "      <td>13</td>\n",
       "    </tr>\n",
       "    <tr>\n",
       "      <th>13</th>\n",
       "      <td>2011-04-28</td>\n",
       "      <td>16:32</td>\n",
       "      <td>Muskox</td>\n",
       "      <td>1</td>\n",
       "    </tr>\n",
       "    <tr>\n",
       "      <th>14</th>\n",
       "      <td>2011-04-28</td>\n",
       "      <td>01:05</td>\n",
       "      <td>Grizzly</td>\n",
       "      <td>27</td>\n",
       "    </tr>\n",
       "  </tbody>\n",
       "</table>\n",
       "</div>"
      ],
      "text/plain": [
       "          Date   Time     Animal  Site ID\n",
       "0   2011-04-22  12:49    Grizzly        4\n",
       "1   2011-04-22  10:59    Grizzly       20\n",
       "2   2011-04-23  20:41     Muskox       36\n",
       "3   2011-04-24  02:04        Fox       31\n",
       "4   2011-04-25  10:54    Grizzly       20\n",
       "5   2011-04-25  02:45     Muskox       15\n",
       "6   2011-04-26  09:38        Owl       25\n",
       "7   2011-04-26  09:42       Wolf       40\n",
       "8   2011-04-26  10:04        Elk       21\n",
       "9   2011-04-26  09:42        Owl        3\n",
       "10  2011-04-26  14:01        Owl        5\n",
       "11  2011-04-27  23:40        Owl        5\n",
       "12  2011-04-27  16:22  Ptarmigan       13\n",
       "13  2011-04-28  16:32     Muskox        1\n",
       "14  2011-04-28  01:05    Grizzly       27"
      ]
     },
     "execution_count": 2,
     "metadata": {},
     "output_type": "execute_result"
    }
   ],
   "source": [
    "import pandas\n",
    "data = pandas.read_csv('animals.txt', sep=' ', names=['Date', 'Time', 'Animal', 'Site ID'])\n",
    "data"
   ]
  },
  {
   "cell_type": "markdown",
   "metadata": {},
   "source": [
    "The cell below makes a simple plot from the above data. The plot shows how many of each animals were sighted. Run the cell to generate the plot."
   ]
  },
  {
   "cell_type": "code",
   "execution_count": 3,
   "metadata": {
    "collapsed": false
   },
   "outputs": [
    {
     "data": {
      "text/plain": [
       "<matplotlib.axes._subplots.AxesSubplot at 0x10b035668>"
      ]
     },
     "execution_count": 3,
     "metadata": {},
     "output_type": "execute_result"
    },
    {
     "data": {
      "image/png": "[encoded data removed]",
      "text/plain": [
       "<matplotlib.figure.Figure at 0x10a5fa4e0>"
      ]
     },
     "metadata": {},
     "output_type": "display_data"
    }
   ],
   "source": [
    "%matplotlib inline\n",
    "import matplotlib.pyplot as plt\n",
    "fig, ax = plt.subplots()\n",
    "data['Animal'].value_counts().plot(ax=ax, kind='bar', color='red')"
   ]
  },
  {
   "cell_type": "markdown",
   "metadata": {},
   "source": [
    "Go back to the celll which writes the file `animals.txt`. Try changing `Grizzly` to `Fox` in the first line; then re-run the three cells below to see how the plot changes."
   ]
  },
  {
   "cell_type": "markdown",
   "metadata": {},
   "source": [
    "## Who's using Jupyter?"
   ]
  },
  {
   "cell_type": "markdown",
   "metadata": {},
   "source": [
    "Because of the rich, interactive environment that Jupyter offers, it's great for **scientific computing and data analysis** in various fields, including the Natural Sciences, Engineering, Economics and Finance, Social Sciences, and various others. Researchers in these fields use notebooks to prototype new solutions; clean, analyze and visualize their data; and share their work with others.\n",
    "\n",
    "It's also a powerful **teaching tool**, enabling people to make presentations, demos, lessons and assignments that contain interactive elements.\n",
    "\n",
    "For examples of applications of Notebooks, see [here](https://github.com/ipython/ipython/wiki/A-gallery-of-interesting-IPython-Notebooks)."
   ]
  },
  {
   "cell_type": "markdown",
   "metadata": {},
   "source": [
    "## What languages are supported?\n",
    "\n",
    "[Several](https://github.com/ipython/ipython/wiki/IPython-kernels-for-other-languages), but the default is Python."
   ]
  },
  {
   "cell_type": "markdown",
   "metadata": {},
   "source": [
    "## How to get started?"
   ]
  },
  {
   "cell_type": "markdown",
   "metadata": {},
   "source": [
    "This Notebook is running on a [Google Compute Engine](https://cloud.google.com/compute/) cluster provided by the [Binder](https://github.com/binder-project/binder) project. Because this is a public cluster, it provides very limited compute resources (CPU cores and memory), and no data security.\n",
    "\n",
    "Jupyter is free and open-source software that you can download and run on your own machine (laptop or workstation). Instructions for installing Jupyter are available [here](http://jupyter.readthedocs.io/en/latest/install.html#id3). \n",
    "\n",
    "**For Clemson University students, faculty and staff:** If you're interested in using Jupyter for your academic work, you can get started with Jupyter running on Clemson University's [Palmetto Cluster](https://www.palmetto.clemson.edu/palmetto/). The Palmetto Cluster comprises more than 20,000 CPU cores, and gives each user 100 GB of backed-up storage. Access to the cluster is **free** for all Clemson students, faculty and staff.\n",
    "\n",
    "1. Request a [Palmetto Cluster account](https://citi.sites.clemson.edu/new-account/) if you don't already have one.\n",
    "2. Log in to [JupyterHub](https://www.palmetto.clemson.edu/jupyterhub) for Palmetto Cluster."
   ]
  }
 ],
 "metadata": {
  "kernelspec": {
   "display_name": "Python 3",
   "language": "python",
   "name": "python3"
  },
  "language_info": {
   "codemirror_mode": {
    "name": "ipython",
    "version": 3
   },
   "file_extension": ".py",
   "mimetype": "text/x-python",
   "name": "python",
   "nbconvert_exporter": "python",
   "pygments_lexer": "ipython3",
   "version": "3.5.2"
  }
 },
 "nbformat": 4,
 "nbformat_minor": 0
}
